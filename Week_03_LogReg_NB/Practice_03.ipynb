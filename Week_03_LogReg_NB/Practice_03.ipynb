{
  "cells": [
    {
      "cell_type": "markdown",
      "metadata": {
        "id": "BMaMNquK2byM"
      },
      "source": [
        "# Линейные модели классификации. Наивный байесовский классификатор."
      ]
    },
    {
      "cell_type": "markdown",
      "metadata": {
        "id": "yiUHup-_2lGd"
      },
      "source": [
        "Подключение необходимых библиотек"
      ]
    },
    {
      "cell_type": "code",
      "execution_count": 1,
      "metadata": {
        "id": "B1H9QP7j2KbM"
      },
      "outputs": [],
      "source": [
        "import pandas as pd\n",
        "import numpy as np\n",
        "\n",
        "import matplotlib.pyplot as plt\n",
        "import seaborn as sns\n",
        "\n",
        "from sklearn.model_selection import train_test_split\n",
        "from sklearn.linear_model import LogisticRegression, SGDClassifier\n",
        "from sklearn.naive_bayes import GaussianNB\n",
        "from sklearn.metrics import accuracy_score"
      ]
    },
    {
      "cell_type": "markdown",
      "metadata": {
        "id": "CKY5oa_K25Fk"
      },
      "source": [
        "Загрузка датасета с google drive"
      ]
    },
    {
      "cell_type": "code",
      "execution_count": 3,
      "metadata": {
        "id": "cRXycOBuES0c"
      },
      "outputs": [],
      "source": [
        "# fixed random state for reproducibility\n",
        "np.random.seed(42)"
      ]
    },
    {
      "cell_type": "code",
      "execution_count": 2,
      "metadata": {
        "id": "3CLvoOeNwu6w"
      },
      "outputs": [],
      "source": [
        "url='https://drive.google.com/file/d/1BTng9OFk4gbwiTTnWpn4bo65P45txm9z/view?usp=drive_link'\n",
        "url='https://drive.google.com/uc?id=' + url.split('/')[-2]\n",
        "data = pd.read_csv(url)"
      ]
    },
    {
      "cell_type": "markdown",
      "metadata": {
        "id": "6F0kjqGU3WMr"
      },
      "source": [
        "Получение информации о датасете"
      ]
    },
    {
      "cell_type": "code",
      "execution_count": null,
      "metadata": {
        "id": "keSGygSH3cnD"
      },
      "outputs": [],
      "source": [
        "print(f\"Размер датасета: {data.shape}\")"
      ]
    },
    {
      "cell_type": "code",
      "execution_count": null,
      "metadata": {
        "id": "Q7sQc5Ug12Ts"
      },
      "outputs": [],
      "source": [
        "print(data.info())"
      ]
    },
    {
      "cell_type": "code",
      "execution_count": null,
      "metadata": {
        "id": "rA3AfITJ3EUb"
      },
      "outputs": [],
      "source": [
        "print(data.describe())"
      ]
    },
    {
      "cell_type": "code",
      "execution_count": null,
      "metadata": {
        "id": "zBmmAeCc17x-"
      },
      "outputs": [],
      "source": [
        "data.hist()"
      ]
    },
    {
      "cell_type": "markdown",
      "metadata": {
        "id": "ECCqrBSr40dM"
      },
      "source": [
        "Разделяем признаки и таргеты"
      ]
    },
    {
      "cell_type": "code",
      "execution_count": null,
      "metadata": {
        "id": "qoD6D7Mh4xgE"
      },
      "outputs": [],
      "source": [
        "X = data[['X1','X2']]\n",
        "Y = data['Label']"
      ]
    },
    {
      "cell_type": "markdown",
      "metadata": {
        "id": "PTOwcaYu4Em8"
      },
      "source": [
        "Разделение датасета на обучающую и тестовую выборку"
      ]
    },
    {
      "cell_type": "code",
      "execution_count": null,
      "metadata": {
        "id": "Z2t0xC7G4Jxk"
      },
      "outputs": [],
      "source": [
        "X_train, X_test, Y_train, Y_test = train_test_split(X, Y, train_size = 0.8, random_state = 42)"
      ]
    },
    {
      "cell_type": "markdown",
      "metadata": {
        "id": "UpieNl_64SRL"
      },
      "source": [
        "Обучение модели логистической регрессии"
      ]
    },
    {
      "cell_type": "code",
      "execution_count": null,
      "metadata": {
        "id": "thY5O9Mm4EEs"
      },
      "outputs": [],
      "source": [
        "model = LogisticRegression(penalty = 'l2')\n",
        "model.fit(X_train, Y_train)"
      ]
    },
    {
      "cell_type": "markdown",
      "metadata": {
        "id": "4nQdXbU95Eh0"
      },
      "source": [
        "Получение прогнозов: метки классов и вероятности"
      ]
    },
    {
      "cell_type": "code",
      "execution_count": null,
      "metadata": {
        "id": "7jzTS4GZ5Jj_"
      },
      "outputs": [],
      "source": [
        "Y_pred = model.predict(X_test)\n",
        "Y_prob = model.predict_proba(X_test)"
      ]
    },
    {
      "cell_type": "markdown",
      "metadata": {
        "id": "OB8SIc5a6Zdc"
      },
      "source": [
        "Оценим обученную модель с помощью метрики accuracy"
      ]
    },
    {
      "cell_type": "code",
      "execution_count": null,
      "metadata": {
        "id": "rTGEkwT55ukk"
      },
      "outputs": [],
      "source": [
        "Acc_pred = accuracy_score(Y_test, Y_pred)\n",
        "threshold = 0.5\n",
        "Acc_prob = accuracy_score(Y_test, Y_prob[:,1] > 0.5)\n",
        "print(f'Доля правильных ответов с использованием полученной метки класса:', np.round(Acc_pred, 4))\n",
        "print(f'Доля правильных ответов с использованием вероятности:', np.round(Acc_prob, 4))\n",
        "print('Коэффициенты модели:', model.coef_)"
      ]
    },
    {
      "cell_type": "markdown",
      "metadata": {
        "id": "qAt-8w4k9Mdc"
      },
      "source": [
        "Построим график зависимости accuracy от значения выбранного порога"
      ]
    },
    {
      "cell_type": "code",
      "execution_count": null,
      "metadata": {
        "id": "hKa_CWLY7mHU"
      },
      "outputs": [],
      "source": [
        "thresholds = np.arange(0.01, 1, 0.01)\n",
        "acc_LR_list = []"
      ]
    },
    {
      "cell_type": "code",
      "execution_count": null,
      "metadata": {
        "id": "HdXtbhvZ8Z5D"
      },
      "outputs": [],
      "source": [
        "for t in thresholds:\n",
        "  acc_LR = accuracy_score(Y_test, Y_prob[:,1] > t)\n",
        "  acc_LR_list.append(acc_LR)"
      ]
    },
    {
      "cell_type": "code",
      "execution_count": null,
      "metadata": {
        "id": "NlUW9cgg8kb8"
      },
      "outputs": [],
      "source": [
        "print(acc_LR_list)"
      ]
    },
    {
      "cell_type": "code",
      "execution_count": null,
      "metadata": {
        "id": "pdMxckkB8tFD"
      },
      "outputs": [],
      "source": [
        "plt.figure(figsize=(10, 6))\n",
        "plt.plot(thresholds, acc_LR_list, label='Accuracy')\n",
        "plt.xlabel('Threshold')\n",
        "plt.ylabel('Accuracy')\n",
        "plt.title('Logistic Regression: accuracy vs threshold')\n",
        "plt.legend()\n",
        "plt.grid(True)\n",
        "plt.show()"
      ]
    },
    {
      "cell_type": "markdown",
      "metadata": {
        "id": "us2g_LqM9sXs"
      },
      "source": [
        "Попробуем использовать наивный байесовский классификатор для решения той же задачи"
      ]
    },
    {
      "cell_type": "code",
      "execution_count": null,
      "metadata": {
        "id": "EQjJ213U9xJL"
      },
      "outputs": [],
      "source": [
        "gnb = GaussianNB()\n",
        "gnb.fit(X_train, Y_train)\n",
        "gnb_pred = gnb.predict(X_test)\n",
        "gnb_prob = gnb.predict_proba(X_test)\n",
        "gnb_score = accuracy_score(Y_test, gnb_pred)\n",
        "print(f'Доля правильных ответов NB classifier:', np.round(gnb_score, 4))"
      ]
    },
    {
      "cell_type": "code",
      "execution_count": null,
      "metadata": {
        "id": "ybstxpCE-wcN"
      },
      "outputs": [],
      "source": [
        "acc_NB_list = []\n",
        "for t in thresholds:\n",
        "  acc_NB = accuracy_score(Y_test, gnb_prob[:,1] > t)\n",
        "  acc_NB_list.append(acc_NB)\n",
        "\n",
        "print(acc_NB_list)"
      ]
    },
    {
      "cell_type": "code",
      "execution_count": null,
      "metadata": {
        "id": "DFaL74KH_U7K"
      },
      "outputs": [],
      "source": [
        "plt.figure(figsize=(10, 6))\n",
        "plt.plot(thresholds, acc_NB_list, label='Accuracy')\n",
        "plt.xlabel('Threshold')\n",
        "plt.ylabel('Accuracy')\n",
        "plt.title('Naive bayes: accuracy vs threshold')\n",
        "plt.legend()\n",
        "plt.grid(True)\n",
        "plt.show()"
      ]
    },
    {
      "cell_type": "markdown",
      "metadata": {
        "id": "PkKx5Lm8_uqp"
      },
      "source": [
        "# Задание для самостоятельной работы\n",
        "На этом же датасете необходимо получить значение **accuracy > 0.9** на тестовой выборке. <br> Разрешается использовать **только** **логистическую регрессию**"
      ]
    },
    {
      "cell_type": "code",
      "execution_count": 4,
      "metadata": {
        "id": "Lm_3YekN_9n1"
      },
      "outputs": [
        {
          "data": {
            "text/plain": [
              "0.9525"
            ]
          },
          "execution_count": 4,
          "metadata": {},
          "output_type": "execute_result"
        },
        {
          "data": {
            "image/png": "[encoded data removed]",
            "text/plain": [
              "<Figure size 640x480 with 4 Axes>"
            ]
          },
          "metadata": {},
          "output_type": "display_data"
        }
      ],
      "source": [
        "# \"холмы\" не очень похожы на норм.распр.\n",
        "fixed_data = data.copy()\n",
        "# попробуем взять признаки по модулю\n",
        "fixed_data[['X1', 'X2']] = np.abs(fixed_data[['X1', 'X2']])\n",
        "# это уже больше похоже на норм.распр.\n",
        "fixed_data.hist()\n",
        "# обучаем новую логистическуб регрессию\n",
        "x_train, x_test, y_train, y_test = train_test_split(\n",
        "    fixed_data[['X1', 'X2']],\n",
        "    data['Label'],\n",
        "    train_size=0.8,\n",
        "    random_state=42,\n",
        ")\n",
        "model = LogisticRegression(penalty='l2')\n",
        "model.fit(x_train, y_train)\n",
        "y_pred = model.predict(x_test)\n",
        "acc_pred = accuracy_score(y_test, y_pred)\n",
        "# проверяем\n",
        "acc_pred"
      ]
    }
  ],
  "metadata": {
    "colab": {
      "provenance": []
    },
    "kernelspec": {
      "display_name": "Python 3",
      "name": "python3"
    },
    "language_info": {
      "codemirror_mode": {
        "name": "ipython",
        "version": 3
      },
      "file_extension": ".py",
      "mimetype": "text/x-python",
      "name": "python",
      "nbconvert_exporter": "python",
      "pygments_lexer": "ipython3",
      "version": "3.11.5"
    }
  },
  "nbformat": 4,
  "nbformat_minor": 0
}
